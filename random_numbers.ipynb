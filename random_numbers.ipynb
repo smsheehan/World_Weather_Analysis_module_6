{
 "cells": [
  {
   "cell_type": "code",
   "execution_count": 1,
   "id": "1a2416ae",
   "metadata": {},
   "outputs": [],
   "source": [
    "import random"
   ]
  },
  {
   "cell_type": "code",
   "execution_count": 2,
   "id": "11b00bf0",
   "metadata": {},
   "outputs": [
    {
     "data": {
      "text/plain": [
       "43"
      ]
     },
     "execution_count": 2,
     "metadata": {},
     "output_type": "execute_result"
    }
   ],
   "source": [
    "random.randint(-90,90)"
   ]
  },
  {
   "cell_type": "code",
   "execution_count": 3,
   "id": "6cb1e750",
   "metadata": {},
   "outputs": [
    {
     "data": {
      "text/plain": [
       "0.09745876668773001"
      ]
     },
     "execution_count": 3,
     "metadata": {},
     "output_type": "execute_result"
    }
   ],
   "source": [
    "random.random()"
   ]
  },
  {
   "cell_type": "code",
   "execution_count": 4,
   "id": "bfd020ce",
   "metadata": {},
   "outputs": [],
   "source": [
    "x = 1\n",
    "latitudes = []\n",
    "while x < 11:\n",
    "    random_lat = random.randint(-90, 89) + random.random()\n",
    "    latitudes.append(random_lat)\n",
    "    x += 1"
   ]
  },
  {
   "cell_type": "code",
   "execution_count": 5,
   "id": "bbc723e8",
   "metadata": {},
   "outputs": [
    {
     "data": {
      "text/plain": [
       "[-89.56664773433535,\n",
       " -77.21967113438762,\n",
       " 69.53952753778879,\n",
       " 10.70993142441934,\n",
       " 0.907817611911964,\n",
       " -85.17340589391043,\n",
       " -50.11553151241543,\n",
       " 73.78627320920522,\n",
       " -27.877365389571086,\n",
       " -86.83029629610076]"
      ]
     },
     "execution_count": 5,
     "metadata": {},
     "output_type": "execute_result"
    }
   ],
   "source": [
    "latitudes\n"
   ]
  },
  {
   "cell_type": "code",
   "execution_count": 6,
   "id": "58817891",
   "metadata": {},
   "outputs": [],
   "source": [
    "# Import the NumPy module.\n",
    "import numpy as np\n"
   ]
  },
  {
   "cell_type": "code",
   "execution_count": 7,
   "id": "20d4853c",
   "metadata": {},
   "outputs": [
    {
     "data": {
      "text/plain": [
       "array([ 81.00249705,  45.15946506,  11.80865582, -46.68775321,\n",
       "        22.10863423, -60.11615186, -65.06260479, -75.98378668,\n",
       "        62.40707499,  10.98312036,  67.38950657,  74.71509562,\n",
       "       -66.32492805,  68.03748692, -77.85243874,  66.00691766,\n",
       "       -25.54112023,  10.53511474, -32.05713031, -77.67006227,\n",
       "        27.08823527, -56.182972  ,  15.59332913, -23.16991476,\n",
       "       -22.56686129, -86.19660073,  70.56993362, -22.15366434,\n",
       "       -62.06486398,  57.88060017,  30.23140748, -73.31092972,\n",
       "        12.71955156,   0.43723896,  18.59867381, -32.79888421,\n",
       "        38.06463464,  19.5596447 ,  70.07272621,  58.49115368,\n",
       "        -8.28169127, -37.82743307,  23.08510586,  71.49855733,\n",
       "        67.1260001 , -18.90268101, -56.96209736, -67.34736333,\n",
       "         5.83990289, -48.82283386])"
      ]
     },
     "execution_count": 7,
     "metadata": {},
     "output_type": "execute_result"
    }
   ],
   "source": [
    "np.random.uniform(-90.000, 90.000, size=50)"
   ]
  },
  {
   "cell_type": "code",
   "execution_count": 8,
   "id": "924b1070",
   "metadata": {},
   "outputs": [],
   "source": [
    "# Import timeit.\n",
    "import timeit"
   ]
  },
  {
   "cell_type": "code",
   "execution_count": 9,
   "id": "fc285fe4",
   "metadata": {},
   "outputs": [
    {
     "name": "stdout",
     "output_type": "stream",
     "text": [
      "14.8 µs ± 63.9 ns per loop (mean ± std. dev. of 7 runs, 100000 loops each)\n"
     ]
    }
   ],
   "source": [
    "%timeit np.random.uniform(-90.000, 90.000, size=1500)"
   ]
  },
  {
   "cell_type": "code",
   "execution_count": 10,
   "id": "f140a279",
   "metadata": {},
   "outputs": [
    {
     "name": "stdout",
     "output_type": "stream",
     "text": [
      "2.43 ms ± 82.3 µs per loop (mean ± std. dev. of 7 runs, 100 loops each)\n"
     ]
    }
   ],
   "source": [
    "def latitudes(size):\n",
    "    latitudes = []\n",
    "    x = 0\n",
    "    while x < (size):\n",
    "        random_lat = random.randint(-90, 90) + random.random()\n",
    "        latitudes.append(random_lat)\n",
    "        x += 1\n",
    "    return latitudes\n",
    "# Call the function with 1500.\n",
    "%timeit latitudes(1500)"
   ]
  },
  {
   "cell_type": "code",
   "execution_count": null,
   "id": "bd10bb3b",
   "metadata": {},
   "outputs": [],
   "source": []
  }
 ],
 "metadata": {
  "kernelspec": {
   "display_name": "PythonData",
   "language": "python",
   "name": "pythondata"
  },
  "language_info": {
   "codemirror_mode": {
    "name": "ipython",
    "version": 3
   },
   "file_extension": ".py",
   "mimetype": "text/x-python",
   "name": "python",
   "nbconvert_exporter": "python",
   "pygments_lexer": "ipython3",
   "version": "3.7.10"
  }
 },
 "nbformat": 4,
 "nbformat_minor": 5
}
